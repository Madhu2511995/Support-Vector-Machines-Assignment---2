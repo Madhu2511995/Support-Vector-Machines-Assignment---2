{
 "cells": [
  {
   "cell_type": "markdown",
   "id": "538f7ab1-f951-40f7-afd6-28129a9b80e4",
   "metadata": {},
   "source": [
    "### Q1. What is the relationship between polynomial functions and kernel functions in machine learning algorithms?\n",
    "\n",
    "### Q2. How can we implement an SVM with a polynomial kernel in Python using Scikit-learn?\n",
    "\n",
    "### Q3. How does increasing the value of epsilon affect the number of support vectors in SVR?\n",
    "\n",
    "### Q4. How does the choice of kernel function, C parameter, epsilon parameter, and gamma parameter affect the performance of Support Vector Regression (SVR)? Can you explain how each parameter works and provide examples of when you might want to increase or decrease its value?\n",
    "\n",
    "### Q5. Assignment:\n",
    "- Import the necessary libraries and load the dataseg\n",
    "- Split the dataset into training and testing setZ\n",
    "- Preprocess the data using any technique of your choice (e.g. scaling, normaliMationK\n",
    "- Create an instance of the SVC classifier and train it on the training datW\n",
    "- hse the trained classifier to predict the labels of the testing datW\n",
    "- Evaluate the performance of the classifier using any metric of your choice (e.g. accuracy, precision, recall, F1-scoreK\n",
    "- Tune the hyperparameters of the SVC classifier using GridSearchCV or RandomiMedSearchCV to improve its performanc_\n",
    "- Train the tuned classifier on the entire dataseg\n",
    "- Save the trained classifier to a file for future use."
   ]
  },
  {
   "cell_type": "markdown",
   "id": "d1264735-0998-4d65-8e17-4d170e506ab7",
   "metadata": {},
   "source": [
    "## Answer"
   ]
  },
  {
   "cell_type": "markdown",
   "id": "a8738780-7d44-434d-b4ce-cbb704ecdfac",
   "metadata": {},
   "source": [
    "### Q1. What is the relationship between polynomial functions and kernel functions in machine learning algorithms?\n",
    "\n"
   ]
  },
  {
   "cell_type": "markdown",
   "id": "fdc6efc3-e55b-41f0-b1ea-593593281774",
   "metadata": {},
   "source": [
    "#### Polynomial Functions:\n",
    "\n",
    "Polynomial functions are mathematical functions that involve powers of variables raised to integer exponents.\n",
    "In the context of machine learning, polynomial features are additional features created by taking all possible combinations of the input features raised to various powers.\n",
    "For example, given input features x and y, adding polynomial features of degree 2 would include x^2, y^2, and xy as new features."
   ]
  },
  {
   "cell_type": "markdown",
   "id": "95abf760-0877-4f5f-ba88-f4feacb18e83",
   "metadata": {},
   "source": [
    "#### Kernel Functions:\n",
    "\n",
    "- Kernel functions in machine learning are used to compute the similarity or inner product between pairs of data points in a transformed feature space without explicitly calculating the transformation.\n",
    "- Common kernel functions include the polynomial kernel and the radial basis function (RBF) kernel.\n",
    "- The polynomial kernel calculates the similarity between data points as if they had been mapped into a higher-dimensional space using polynomial feature transformations."
   ]
  },
  {
   "cell_type": "markdown",
   "id": "456d042f-cb97-4738-9b16-704d8566053d",
   "metadata": {},
   "source": [
    "The key relationship between these concepts is that certain kernel functions, such as the polynomial kernel, implicitly apply polynomial transformations to the data points. This means that instead of explicitly computing the polynomial features, which can be computationally expensive, the kernel function computes the inner product in the higher-dimensional space without needing to expand the features explicitly."
   ]
  },
  {
   "cell_type": "markdown",
   "id": "2ce15732-ee1b-4663-96aa-afdf72dfc97c",
   "metadata": {},
   "source": [
    "### Q2. How can we implement an SVM with a polynomial kernel in Python using Scikit-learn?\n",
    "\n"
   ]
  },
  {
   "cell_type": "markdown",
   "id": "4267c459-5867-4e38-b38e-e4fc9d467e8b",
   "metadata": {},
   "source": [
    "When we are create the SVM Classifire we use kernel as poly like this:\n",
    "\n",
    "##### from sklearn.svm import SVC\n",
    "\n",
    "##### clf = SVC(kernel='poly') "
   ]
  },
  {
   "cell_type": "markdown",
   "id": "2ff194da-7524-4cd3-86fc-f5f41839a6ad",
   "metadata": {},
   "source": [
    "### Q3. How does increasing the value of epsilon affect the number of support vectors in SVR?\n",
    "\n"
   ]
  },
  {
   "cell_type": "markdown",
   "id": "03e06936-fa7f-48b1-b800-8bef50ddee31",
   "metadata": {},
   "source": [
    "In Support Vector Regression (SVR), epsilon (ε) is a hyperparameter that defines the width of the epsilon-insensitive tube around the predicted values. The epsilon-insensitive tube allows for a certain amount of error or deviation between the predicted and actual target values, and any data points falling within this tube do not contribute to the loss function during training. Epsilon plays a significant role in determining the number of support vectors in SVR."
   ]
  },
  {
   "cell_type": "markdown",
   "id": "9af9ed13-c4ed-4ed2-aa7c-2a775cd2e024",
   "metadata": {},
   "source": [
    "#### Smaller Epsilon (ε):\n",
    "\n",
    "- A smaller epsilon value tightens the epsilon-insensitive tube, reducing the allowable error or deviation between predicted and actual values.\n",
    "- As epsilon decreases, the SVR model becomes more sensitive to small errors and strives for a more precise fit to the training data.\n",
    "- This often leads to a larger number of support vectors, as the model may need to include more data points to minimize the loss and satisfy the tighter epsilon constraint."
   ]
  },
  {
   "cell_type": "markdown",
   "id": "ad01cb2d-bada-4115-908b-70c5ebf29108",
   "metadata": {},
   "source": [
    "#### Larger Epsilon (ε):\n",
    "\n",
    "A larger epsilon value widens the epsilon-insensitive tube, allowing for a greater error margin between predicted and actual values.\n",
    "As epsilon increases, the SVR model becomes more tolerant of errors and focuses on capturing the general trend in the data rather than fitting the training data exactly.\n",
    "This typically results in a smaller number of support vectors, as the model can achieve a good fit with fewer data points that fall within the wider epsilon-insensitive tube."
   ]
  },
  {
   "cell_type": "markdown",
   "id": "e2ca5c72-ace4-49fc-8474-ec623da45351",
   "metadata": {},
   "source": [
    "### Q4. How does the choice of kernel function, C parameter, epsilon parameter, and gamma parameter affect the performance of Support Vector Regression (SVR)? Can you explain how each parameter works and provide examples of when you might want to increase or decrease its value?\n",
    "\n"
   ]
  },
  {
   "cell_type": "markdown",
   "id": "5e450c7b-af87-49ef-97d8-7b89be013b81",
   "metadata": {},
   "source": [
    "The performance of Support Vector Regression (SVR) is significantly affected by various hyperparameters, including the choice of kernel function, C parameter, epsilon parameter (ε), and gamma parameter (γ). Let's explore each parameter, how it works, and when you might want to adjust its value:\n",
    "\n",
    "1. **Kernel Function**:\n",
    "   - **Purpose**: The kernel function determines the mapping of data points into a higher-dimensional space, which is crucial for capturing non-linear relationships.\n",
    "   - **Common Choices**: Linear, Polynomial, Radial Basis Function (RBF/Gaussian), Sigmoid, etc.\n",
    "   - **When to Choose**:\n",
    "     - Use a linear kernel (`kernel='linear'`) when the data exhibits a linear relationship.\n",
    "     - Use a polynomial kernel (`kernel='poly'`) when the data is moderately non-linear and you want to control the degree of the polynomial transformation with the `degree` parameter.\n",
    "     - Use an RBF kernel (`kernel='rbf'`) when the data is highly non-linear or when you don't know the degree of non-linearity. The RBF kernel is a versatile choice.\n",
    "     - Experiment with different kernels to find the one that best fits your data.\n",
    "\n",
    "2. **C Parameter**:\n",
    "   - **Purpose**: The C parameter controls the trade-off between achieving a smaller training error and a larger margin. It balances the model's bias-variance trade-off.\n",
    "   - **Effect of Increasing**:\n",
    "     - Increasing C makes the model more tolerant of training errors, potentially leading to a smaller margin and more support vectors.\n",
    "     - The model may become overfit if C is too large.\n",
    "   - **Effect of Decreasing**:\n",
    "     - Decreasing C encourages a larger margin but may allow more training errors.\n",
    "     - The model may become underfit if C is too small.\n",
    "   - **When to Adjust**:\n",
    "     - Increase C when you want the model to focus on accurately fitting the training data, especially when you believe the data contains minimal noise.\n",
    "     - Decrease C when you want the model to prioritize a larger margin and generalization, even if it means accepting some training errors.\n",
    "\n",
    "3. **Epsilon Parameter (ε)**:\n",
    "   - **Purpose**: The epsilon parameter defines the width of the epsilon-insensitive tube around the predicted values. Data points inside this tube do not contribute to the loss during training.\n",
    "   - **Effect of Increasing**:\n",
    "     - Increasing ε makes the model more tolerant of deviations between predicted and actual values.\n",
    "     - It may result in a smaller number of support vectors.\n",
    "   - **Effect of Decreasing**:\n",
    "     - Decreasing ε tightens the tube, requiring the model to fit the data more precisely.\n",
    "     - It may result in a larger number of support vectors.\n",
    "   - **When to Adjust**:\n",
    "     - Increase ε when you want the model to be less sensitive to noise or small fluctuations in the target values.\n",
    "     - Decrease ε when you need the model to fit the training data more closely or when you believe the target values are very accurate.\n",
    "\n",
    "4. **Gamma Parameter (γ)**:\n",
    "   - **Purpose**: The gamma parameter controls the shape of the radial basis function (RBF) kernel. It determines how much influence a single training example has on the others.\n",
    "   - **Effect of Increasing**:\n",
    "     - Increasing γ makes the RBF kernel more peaked and localizes the influence of training examples.\n",
    "     - It can lead to a more complex model that fits the training data more closely.\n",
    "   - **Effect of Decreasing**:\n",
    "     - Decreasing γ makes the RBF kernel more spread out and influences a larger region around each training example.\n",
    "     - It can lead to a simpler model with a larger margin.\n",
    "   - **When to Adjust**:\n",
    "     - Increase γ when you suspect that the target function is highly non-linear or when you have a small dataset. Be cautious about overfitting.\n",
    "     - Decrease γ when you have a large dataset or when you want the model to focus on capturing global trends rather than local variations.\n",
    "\n"
   ]
  },
  {
   "cell_type": "code",
   "execution_count": null,
   "id": "1b5ea8a0-ec57-4885-9418-2bd423b570e4",
   "metadata": {},
   "outputs": [],
   "source": []
  },
  {
   "cell_type": "markdown",
   "id": "afb182a0-ff69-4a29-87aa-ac3cce546769",
   "metadata": {},
   "source": [
    "### Q5. Assignment:\n",
    "- Import the necessary libraries and load the dataset\n",
    "- Split the dataset into training and testing set\n",
    "- Preprocess the data using any technique of your choice (e.g. scaling, normaliMation)\n",
    "- Create an instance of the SVC classifier and train it on the training data\n",
    "- use the trained classifier to predict the labels of the testing data\n",
    "- Evaluate the performance of the classifier using any metric of your choice (e.g. accuracy, precision, recall, F1-score)\n",
    "- Tune the hyperparameters of the SVC classifier using GridSearchCV or RandomiMedSearchCV to improve its performanc\n",
    "- Train the tuned classifier on the entire dataset\n",
    "- Save the trained classifier to a file for future use."
   ]
  },
  {
   "cell_type": "code",
   "execution_count": 1,
   "id": "d9643d89-9b21-4286-a080-86db7e583645",
   "metadata": {},
   "outputs": [],
   "source": [
    "import pandas as pd\n",
    "import numpy as np\n",
    "import seaborn as sns\n",
    "import matplotlib.pyplot as plt"
   ]
  },
  {
   "cell_type": "code",
   "execution_count": 2,
   "id": "c11df4cd-6292-4d79-894e-69a8a3a73b0a",
   "metadata": {},
   "outputs": [
    {
     "data": {
      "text/html": [
       "<div>\n",
       "<style scoped>\n",
       "    .dataframe tbody tr th:only-of-type {\n",
       "        vertical-align: middle;\n",
       "    }\n",
       "\n",
       "    .dataframe tbody tr th {\n",
       "        vertical-align: top;\n",
       "    }\n",
       "\n",
       "    .dataframe thead th {\n",
       "        text-align: right;\n",
       "    }\n",
       "</style>\n",
       "<table border=\"1\" class=\"dataframe\">\n",
       "  <thead>\n",
       "    <tr style=\"text-align: right;\">\n",
       "      <th></th>\n",
       "      <th>sepal_length</th>\n",
       "      <th>sepal_width</th>\n",
       "      <th>petal_length</th>\n",
       "      <th>petal_width</th>\n",
       "      <th>species</th>\n",
       "    </tr>\n",
       "  </thead>\n",
       "  <tbody>\n",
       "    <tr>\n",
       "      <th>0</th>\n",
       "      <td>5.1</td>\n",
       "      <td>3.5</td>\n",
       "      <td>1.4</td>\n",
       "      <td>0.2</td>\n",
       "      <td>setosa</td>\n",
       "    </tr>\n",
       "    <tr>\n",
       "      <th>1</th>\n",
       "      <td>4.9</td>\n",
       "      <td>3.0</td>\n",
       "      <td>1.4</td>\n",
       "      <td>0.2</td>\n",
       "      <td>setosa</td>\n",
       "    </tr>\n",
       "    <tr>\n",
       "      <th>2</th>\n",
       "      <td>4.7</td>\n",
       "      <td>3.2</td>\n",
       "      <td>1.3</td>\n",
       "      <td>0.2</td>\n",
       "      <td>setosa</td>\n",
       "    </tr>\n",
       "    <tr>\n",
       "      <th>3</th>\n",
       "      <td>4.6</td>\n",
       "      <td>3.1</td>\n",
       "      <td>1.5</td>\n",
       "      <td>0.2</td>\n",
       "      <td>setosa</td>\n",
       "    </tr>\n",
       "    <tr>\n",
       "      <th>4</th>\n",
       "      <td>5.0</td>\n",
       "      <td>3.6</td>\n",
       "      <td>1.4</td>\n",
       "      <td>0.2</td>\n",
       "      <td>setosa</td>\n",
       "    </tr>\n",
       "  </tbody>\n",
       "</table>\n",
       "</div>"
      ],
      "text/plain": [
       "   sepal_length  sepal_width  petal_length  petal_width species\n",
       "0           5.1          3.5           1.4          0.2  setosa\n",
       "1           4.9          3.0           1.4          0.2  setosa\n",
       "2           4.7          3.2           1.3          0.2  setosa\n",
       "3           4.6          3.1           1.5          0.2  setosa\n",
       "4           5.0          3.6           1.4          0.2  setosa"
      ]
     },
     "execution_count": 2,
     "metadata": {},
     "output_type": "execute_result"
    }
   ],
   "source": [
    "data=sns.load_dataset('iris')\n",
    "data.head()"
   ]
  },
  {
   "cell_type": "code",
   "execution_count": 4,
   "id": "4905238c-231b-402a-ac8e-9a2107da7d57",
   "metadata": {},
   "outputs": [
    {
     "data": {
      "text/html": [
       "<div>\n",
       "<style scoped>\n",
       "    .dataframe tbody tr th:only-of-type {\n",
       "        vertical-align: middle;\n",
       "    }\n",
       "\n",
       "    .dataframe tbody tr th {\n",
       "        vertical-align: top;\n",
       "    }\n",
       "\n",
       "    .dataframe thead th {\n",
       "        text-align: right;\n",
       "    }\n",
       "</style>\n",
       "<table border=\"1\" class=\"dataframe\">\n",
       "  <thead>\n",
       "    <tr style=\"text-align: right;\">\n",
       "      <th></th>\n",
       "      <th>sepal_length</th>\n",
       "      <th>sepal_width</th>\n",
       "      <th>petal_length</th>\n",
       "      <th>petal_width</th>\n",
       "      <th>species</th>\n",
       "    </tr>\n",
       "  </thead>\n",
       "  <tbody>\n",
       "    <tr>\n",
       "      <th>0</th>\n",
       "      <td>5.1</td>\n",
       "      <td>3.5</td>\n",
       "      <td>1.4</td>\n",
       "      <td>0.2</td>\n",
       "      <td>0</td>\n",
       "    </tr>\n",
       "    <tr>\n",
       "      <th>1</th>\n",
       "      <td>4.9</td>\n",
       "      <td>3.0</td>\n",
       "      <td>1.4</td>\n",
       "      <td>0.2</td>\n",
       "      <td>0</td>\n",
       "    </tr>\n",
       "    <tr>\n",
       "      <th>2</th>\n",
       "      <td>4.7</td>\n",
       "      <td>3.2</td>\n",
       "      <td>1.3</td>\n",
       "      <td>0.2</td>\n",
       "      <td>0</td>\n",
       "    </tr>\n",
       "    <tr>\n",
       "      <th>3</th>\n",
       "      <td>4.6</td>\n",
       "      <td>3.1</td>\n",
       "      <td>1.5</td>\n",
       "      <td>0.2</td>\n",
       "      <td>0</td>\n",
       "    </tr>\n",
       "    <tr>\n",
       "      <th>4</th>\n",
       "      <td>5.0</td>\n",
       "      <td>3.6</td>\n",
       "      <td>1.4</td>\n",
       "      <td>0.2</td>\n",
       "      <td>0</td>\n",
       "    </tr>\n",
       "  </tbody>\n",
       "</table>\n",
       "</div>"
      ],
      "text/plain": [
       "   sepal_length  sepal_width  petal_length  petal_width  species\n",
       "0           5.1          3.5           1.4          0.2        0\n",
       "1           4.9          3.0           1.4          0.2        0\n",
       "2           4.7          3.2           1.3          0.2        0\n",
       "3           4.6          3.1           1.5          0.2        0\n",
       "4           5.0          3.6           1.4          0.2        0"
      ]
     },
     "execution_count": 4,
     "metadata": {},
     "output_type": "execute_result"
    }
   ],
   "source": [
    "from sklearn.preprocessing import LabelEncoder\n",
    "encoder=LabelEncoder()\n",
    "data['species']=encoder.fit_transform(data['species'])\n",
    "data.head()"
   ]
  },
  {
   "cell_type": "code",
   "execution_count": 5,
   "id": "dbbbb835-ca20-458b-950a-f71da77ac514",
   "metadata": {},
   "outputs": [],
   "source": [
    "X=data.iloc[:,:-1]\n",
    "y=data.iloc[:,-1]"
   ]
  },
  {
   "cell_type": "code",
   "execution_count": 6,
   "id": "60cfdea8-5f6d-4217-a825-553a589b758b",
   "metadata": {},
   "outputs": [],
   "source": [
    "from sklearn.model_selection import train_test_split\n",
    "X_train,X_test,y_train,y_test=train_test_split(X,y,test_size=0.25,random_state=42)"
   ]
  },
  {
   "cell_type": "code",
   "execution_count": 7,
   "id": "a8e32c60-6208-4cd9-bb27-a6d215e9d64d",
   "metadata": {},
   "outputs": [],
   "source": [
    "from sklearn.svm import SVC\n",
    "svc=SVC()"
   ]
  },
  {
   "cell_type": "code",
   "execution_count": 8,
   "id": "8fc1a5e7-8fcf-4a48-94fd-612e042fc476",
   "metadata": {},
   "outputs": [
    {
     "data": {
      "text/html": [
       "<style>#sk-container-id-1 {color: black;background-color: white;}#sk-container-id-1 pre{padding: 0;}#sk-container-id-1 div.sk-toggleable {background-color: white;}#sk-container-id-1 label.sk-toggleable__label {cursor: pointer;display: block;width: 100%;margin-bottom: 0;padding: 0.3em;box-sizing: border-box;text-align: center;}#sk-container-id-1 label.sk-toggleable__label-arrow:before {content: \"▸\";float: left;margin-right: 0.25em;color: #696969;}#sk-container-id-1 label.sk-toggleable__label-arrow:hover:before {color: black;}#sk-container-id-1 div.sk-estimator:hover label.sk-toggleable__label-arrow:before {color: black;}#sk-container-id-1 div.sk-toggleable__content {max-height: 0;max-width: 0;overflow: hidden;text-align: left;background-color: #f0f8ff;}#sk-container-id-1 div.sk-toggleable__content pre {margin: 0.2em;color: black;border-radius: 0.25em;background-color: #f0f8ff;}#sk-container-id-1 input.sk-toggleable__control:checked~div.sk-toggleable__content {max-height: 200px;max-width: 100%;overflow: auto;}#sk-container-id-1 input.sk-toggleable__control:checked~label.sk-toggleable__label-arrow:before {content: \"▾\";}#sk-container-id-1 div.sk-estimator input.sk-toggleable__control:checked~label.sk-toggleable__label {background-color: #d4ebff;}#sk-container-id-1 div.sk-label input.sk-toggleable__control:checked~label.sk-toggleable__label {background-color: #d4ebff;}#sk-container-id-1 input.sk-hidden--visually {border: 0;clip: rect(1px 1px 1px 1px);clip: rect(1px, 1px, 1px, 1px);height: 1px;margin: -1px;overflow: hidden;padding: 0;position: absolute;width: 1px;}#sk-container-id-1 div.sk-estimator {font-family: monospace;background-color: #f0f8ff;border: 1px dotted black;border-radius: 0.25em;box-sizing: border-box;margin-bottom: 0.5em;}#sk-container-id-1 div.sk-estimator:hover {background-color: #d4ebff;}#sk-container-id-1 div.sk-parallel-item::after {content: \"\";width: 100%;border-bottom: 1px solid gray;flex-grow: 1;}#sk-container-id-1 div.sk-label:hover label.sk-toggleable__label {background-color: #d4ebff;}#sk-container-id-1 div.sk-serial::before {content: \"\";position: absolute;border-left: 1px solid gray;box-sizing: border-box;top: 0;bottom: 0;left: 50%;z-index: 0;}#sk-container-id-1 div.sk-serial {display: flex;flex-direction: column;align-items: center;background-color: white;padding-right: 0.2em;padding-left: 0.2em;position: relative;}#sk-container-id-1 div.sk-item {position: relative;z-index: 1;}#sk-container-id-1 div.sk-parallel {display: flex;align-items: stretch;justify-content: center;background-color: white;position: relative;}#sk-container-id-1 div.sk-item::before, #sk-container-id-1 div.sk-parallel-item::before {content: \"\";position: absolute;border-left: 1px solid gray;box-sizing: border-box;top: 0;bottom: 0;left: 50%;z-index: -1;}#sk-container-id-1 div.sk-parallel-item {display: flex;flex-direction: column;z-index: 1;position: relative;background-color: white;}#sk-container-id-1 div.sk-parallel-item:first-child::after {align-self: flex-end;width: 50%;}#sk-container-id-1 div.sk-parallel-item:last-child::after {align-self: flex-start;width: 50%;}#sk-container-id-1 div.sk-parallel-item:only-child::after {width: 0;}#sk-container-id-1 div.sk-dashed-wrapped {border: 1px dashed gray;margin: 0 0.4em 0.5em 0.4em;box-sizing: border-box;padding-bottom: 0.4em;background-color: white;}#sk-container-id-1 div.sk-label label {font-family: monospace;font-weight: bold;display: inline-block;line-height: 1.2em;}#sk-container-id-1 div.sk-label-container {text-align: center;}#sk-container-id-1 div.sk-container {/* jupyter's `normalize.less` sets `[hidden] { display: none; }` but bootstrap.min.css set `[hidden] { display: none !important; }` so we also need the `!important` here to be able to override the default hidden behavior on the sphinx rendered scikit-learn.org. See: https://github.com/scikit-learn/scikit-learn/issues/21755 */display: inline-block !important;position: relative;}#sk-container-id-1 div.sk-text-repr-fallback {display: none;}</style><div id=\"sk-container-id-1\" class=\"sk-top-container\"><div class=\"sk-text-repr-fallback\"><pre>SVC()</pre><b>In a Jupyter environment, please rerun this cell to show the HTML representation or trust the notebook. <br />On GitHub, the HTML representation is unable to render, please try loading this page with nbviewer.org.</b></div><div class=\"sk-container\" hidden><div class=\"sk-item\"><div class=\"sk-estimator sk-toggleable\"><input class=\"sk-toggleable__control sk-hidden--visually\" id=\"sk-estimator-id-1\" type=\"checkbox\" checked><label for=\"sk-estimator-id-1\" class=\"sk-toggleable__label sk-toggleable__label-arrow\">SVC</label><div class=\"sk-toggleable__content\"><pre>SVC()</pre></div></div></div></div></div>"
      ],
      "text/plain": [
       "SVC()"
      ]
     },
     "execution_count": 8,
     "metadata": {},
     "output_type": "execute_result"
    }
   ],
   "source": [
    "svc.fit(X_train,y_train)"
   ]
  },
  {
   "cell_type": "code",
   "execution_count": 9,
   "id": "5d2f9481-7148-4caa-99e2-aa5ea9b081b6",
   "metadata": {},
   "outputs": [],
   "source": [
    "y_pred=svc.predict(X_test)"
   ]
  },
  {
   "cell_type": "code",
   "execution_count": 10,
   "id": "7cd3b0ce-5cc7-4a7a-89a4-fd5d148c8d83",
   "metadata": {},
   "outputs": [
    {
     "data": {
      "text/plain": [
       "1.0"
      ]
     },
     "execution_count": 10,
     "metadata": {},
     "output_type": "execute_result"
    }
   ],
   "source": [
    "from sklearn.metrics import accuracy_score,classification_report,confusion_matrix\n",
    "score=accuracy_score(y_test,y_pred)\n",
    "score"
   ]
  },
  {
   "cell_type": "code",
   "execution_count": 11,
   "id": "86a7bca4-9027-4cba-ad86-49c54a8fe955",
   "metadata": {},
   "outputs": [
    {
     "data": {
      "text/plain": [
       "array([[15,  0,  0],\n",
       "       [ 0, 11,  0],\n",
       "       [ 0,  0, 12]])"
      ]
     },
     "execution_count": 11,
     "metadata": {},
     "output_type": "execute_result"
    }
   ],
   "source": [
    "confusion_matrix(y_test,y_pred)"
   ]
  },
  {
   "cell_type": "code",
   "execution_count": 12,
   "id": "3718d10a-4d7a-494e-9566-e3559a32abb4",
   "metadata": {},
   "outputs": [
    {
     "data": {
      "text/plain": [
       "'              precision    recall  f1-score   support\\n\\n           0       1.00      1.00      1.00        15\\n           1       1.00      1.00      1.00        11\\n           2       1.00      1.00      1.00        12\\n\\n    accuracy                           1.00        38\\n   macro avg       1.00      1.00      1.00        38\\nweighted avg       1.00      1.00      1.00        38\\n'"
      ]
     },
     "execution_count": 12,
     "metadata": {},
     "output_type": "execute_result"
    }
   ],
   "source": [
    "classification_report(y_test,y_pred)"
   ]
  },
  {
   "cell_type": "code",
   "execution_count": 13,
   "id": "a4cb510f-3bec-435b-a121-14d4c991f6cf",
   "metadata": {},
   "outputs": [],
   "source": [
    "from sklearn.model_selection import GridSearchCV"
   ]
  },
  {
   "cell_type": "code",
   "execution_count": 14,
   "id": "03eee7dd-75ed-4c48-8fb7-c5ac8da6d118",
   "metadata": {},
   "outputs": [],
   "source": [
    "param_grid={'C':[0.1,1,10,100,1000],\n",
    "            'gamma':[1,0.1,0.01,0.001,0.0001]\n",
    "\n",
    "}"
   ]
  },
  {
   "cell_type": "code",
   "execution_count": 15,
   "id": "80e06ed5-71c0-47c5-83bc-f87872631a98",
   "metadata": {},
   "outputs": [],
   "source": [
    "grid=GridSearchCV(SVC(),param_grid=param_grid,refit=True,cv=5,verbose=3)"
   ]
  },
  {
   "cell_type": "code",
   "execution_count": 16,
   "id": "3d53d642-a648-40cb-ba7d-a45cb5a6f9b3",
   "metadata": {},
   "outputs": [
    {
     "name": "stdout",
     "output_type": "stream",
     "text": [
      "Fitting 5 folds for each of 25 candidates, totalling 125 fits\n",
      "[CV 1/5] END ....................C=0.1, gamma=1;, score=1.000 total time=   0.0s\n",
      "[CV 2/5] END ....................C=0.1, gamma=1;, score=0.957 total time=   0.0s\n",
      "[CV 3/5] END ....................C=0.1, gamma=1;, score=0.818 total time=   0.0s\n",
      "[CV 4/5] END ....................C=0.1, gamma=1;, score=1.000 total time=   0.0s\n",
      "[CV 5/5] END ....................C=0.1, gamma=1;, score=0.955 total time=   0.0s\n",
      "[CV 1/5] END ..................C=0.1, gamma=0.1;, score=1.000 total time=   0.0s\n",
      "[CV 2/5] END ..................C=0.1, gamma=0.1;, score=0.870 total time=   0.0s\n",
      "[CV 3/5] END ..................C=0.1, gamma=0.1;, score=0.864 total time=   0.0s\n",
      "[CV 4/5] END ..................C=0.1, gamma=0.1;, score=0.955 total time=   0.0s\n",
      "[CV 5/5] END ..................C=0.1, gamma=0.1;, score=0.864 total time=   0.0s\n",
      "[CV 1/5] END .................C=0.1, gamma=0.01;, score=0.348 total time=   0.0s\n",
      "[CV 2/5] END .................C=0.1, gamma=0.01;, score=0.348 total time=   0.0s\n",
      "[CV 3/5] END .................C=0.1, gamma=0.01;, score=0.318 total time=   0.0s\n",
      "[CV 4/5] END .................C=0.1, gamma=0.01;, score=0.636 total time=   0.0s\n",
      "[CV 5/5] END .................C=0.1, gamma=0.01;, score=0.545 total time=   0.0s\n",
      "[CV 1/5] END ................C=0.1, gamma=0.001;, score=0.348 total time=   0.0s\n",
      "[CV 2/5] END ................C=0.1, gamma=0.001;, score=0.348 total time=   0.0s\n",
      "[CV 3/5] END ................C=0.1, gamma=0.001;, score=0.318 total time=   0.0s\n",
      "[CV 4/5] END ................C=0.1, gamma=0.001;, score=0.636 total time=   0.0s\n",
      "[CV 5/5] END ................C=0.1, gamma=0.001;, score=0.545 total time=   0.0s\n",
      "[CV 1/5] END ...............C=0.1, gamma=0.0001;, score=0.348 total time=   0.0s\n",
      "[CV 2/5] END ...............C=0.1, gamma=0.0001;, score=0.348 total time=   0.0s\n",
      "[CV 3/5] END ...............C=0.1, gamma=0.0001;, score=0.318 total time=   0.0s\n",
      "[CV 4/5] END ...............C=0.1, gamma=0.0001;, score=0.636 total time=   0.0s\n",
      "[CV 5/5] END ...............C=0.1, gamma=0.0001;, score=0.545 total time=   0.0s\n",
      "[CV 1/5] END ......................C=1, gamma=1;, score=0.957 total time=   0.0s\n",
      "[CV 2/5] END ......................C=1, gamma=1;, score=1.000 total time=   0.0s\n",
      "[CV 3/5] END ......................C=1, gamma=1;, score=0.818 total time=   0.0s\n",
      "[CV 4/5] END ......................C=1, gamma=1;, score=1.000 total time=   0.0s\n",
      "[CV 5/5] END ......................C=1, gamma=1;, score=0.955 total time=   0.0s\n",
      "[CV 1/5] END ....................C=1, gamma=0.1;, score=1.000 total time=   0.0s\n",
      "[CV 2/5] END ....................C=1, gamma=0.1;, score=0.957 total time=   0.0s\n",
      "[CV 3/5] END ....................C=1, gamma=0.1;, score=0.818 total time=   0.0s\n",
      "[CV 4/5] END ....................C=1, gamma=0.1;, score=1.000 total time=   0.0s\n",
      "[CV 5/5] END ....................C=1, gamma=0.1;, score=0.955 total time=   0.0s\n",
      "[CV 1/5] END ...................C=1, gamma=0.01;, score=0.957 total time=   0.0s\n",
      "[CV 2/5] END ...................C=1, gamma=0.01;, score=0.870 total time=   0.0s\n",
      "[CV 3/5] END ...................C=1, gamma=0.01;, score=0.864 total time=   0.0s\n",
      "[CV 4/5] END ...................C=1, gamma=0.01;, score=1.000 total time=   0.0s\n",
      "[CV 5/5] END ...................C=1, gamma=0.01;, score=0.864 total time=   0.0s\n",
      "[CV 1/5] END ..................C=1, gamma=0.001;, score=0.348 total time=   0.0s\n",
      "[CV 2/5] END ..................C=1, gamma=0.001;, score=0.348 total time=   0.0s\n",
      "[CV 3/5] END ..................C=1, gamma=0.001;, score=0.318 total time=   0.0s\n",
      "[CV 4/5] END ..................C=1, gamma=0.001;, score=0.636 total time=   0.0s\n",
      "[CV 5/5] END ..................C=1, gamma=0.001;, score=0.545 total time=   0.0s\n",
      "[CV 1/5] END .................C=1, gamma=0.0001;, score=0.348 total time=   0.0s\n",
      "[CV 2/5] END .................C=1, gamma=0.0001;, score=0.348 total time=   0.0s\n",
      "[CV 3/5] END .................C=1, gamma=0.0001;, score=0.318 total time=   0.0s\n",
      "[CV 4/5] END .................C=1, gamma=0.0001;, score=0.636 total time=   0.0s\n",
      "[CV 5/5] END .................C=1, gamma=0.0001;, score=0.545 total time=   0.0s\n",
      "[CV 1/5] END .....................C=10, gamma=1;, score=0.957 total time=   0.0s\n",
      "[CV 2/5] END .....................C=10, gamma=1;, score=1.000 total time=   0.0s\n",
      "[CV 3/5] END .....................C=10, gamma=1;, score=0.818 total time=   0.0s\n",
      "[CV 4/5] END .....................C=10, gamma=1;, score=1.000 total time=   0.0s\n",
      "[CV 5/5] END .....................C=10, gamma=1;, score=0.955 total time=   0.0s\n",
      "[CV 1/5] END ...................C=10, gamma=0.1;, score=0.957 total time=   0.0s\n",
      "[CV 2/5] END ...................C=10, gamma=0.1;, score=1.000 total time=   0.0s\n",
      "[CV 3/5] END ...................C=10, gamma=0.1;, score=0.864 total time=   0.0s\n",
      "[CV 4/5] END ...................C=10, gamma=0.1;, score=1.000 total time=   0.0s\n",
      "[CV 5/5] END ...................C=10, gamma=0.1;, score=0.955 total time=   0.0s\n",
      "[CV 1/5] END ..................C=10, gamma=0.01;, score=1.000 total time=   0.0s\n",
      "[CV 2/5] END ..................C=10, gamma=0.01;, score=0.957 total time=   0.0s\n",
      "[CV 3/5] END ..................C=10, gamma=0.01;, score=0.818 total time=   0.0s\n",
      "[CV 4/5] END ..................C=10, gamma=0.01;, score=1.000 total time=   0.0s\n",
      "[CV 5/5] END ..................C=10, gamma=0.01;, score=0.955 total time=   0.0s\n",
      "[CV 1/5] END .................C=10, gamma=0.001;, score=0.957 total time=   0.0s\n",
      "[CV 2/5] END .................C=10, gamma=0.001;, score=0.870 total time=   0.0s\n",
      "[CV 3/5] END .................C=10, gamma=0.001;, score=0.864 total time=   0.0s\n",
      "[CV 4/5] END .................C=10, gamma=0.001;, score=1.000 total time=   0.0s\n",
      "[CV 5/5] END .................C=10, gamma=0.001;, score=0.864 total time=   0.0s\n",
      "[CV 1/5] END ................C=10, gamma=0.0001;, score=0.348 total time=   0.0s\n",
      "[CV 2/5] END ................C=10, gamma=0.0001;, score=0.348 total time=   0.0s\n",
      "[CV 3/5] END ................C=10, gamma=0.0001;, score=0.318 total time=   0.0s\n",
      "[CV 4/5] END ................C=10, gamma=0.0001;, score=0.636 total time=   0.0s\n",
      "[CV 5/5] END ................C=10, gamma=0.0001;, score=0.545 total time=   0.0s\n",
      "[CV 1/5] END ....................C=100, gamma=1;, score=0.957 total time=   0.0s\n",
      "[CV 2/5] END ....................C=100, gamma=1;, score=1.000 total time=   0.0s\n",
      "[CV 3/5] END ....................C=100, gamma=1;, score=0.818 total time=   0.0s\n",
      "[CV 4/5] END ....................C=100, gamma=1;, score=0.955 total time=   0.0s\n",
      "[CV 5/5] END ....................C=100, gamma=1;, score=0.909 total time=   0.0s\n",
      "[CV 1/5] END ..................C=100, gamma=0.1;, score=0.957 total time=   0.0s\n",
      "[CV 2/5] END ..................C=100, gamma=0.1;, score=1.000 total time=   0.0s\n",
      "[CV 3/5] END ..................C=100, gamma=0.1;, score=0.818 total time=   0.0s\n",
      "[CV 4/5] END ..................C=100, gamma=0.1;, score=1.000 total time=   0.0s\n",
      "[CV 5/5] END ..................C=100, gamma=0.1;, score=1.000 total time=   0.0s\n",
      "[CV 1/5] END .................C=100, gamma=0.01;, score=1.000 total time=   0.0s\n",
      "[CV 2/5] END .................C=100, gamma=0.01;, score=1.000 total time=   0.0s\n",
      "[CV 3/5] END .................C=100, gamma=0.01;, score=0.864 total time=   0.0s\n",
      "[CV 4/5] END .................C=100, gamma=0.01;, score=1.000 total time=   0.0s\n",
      "[CV 5/5] END .................C=100, gamma=0.01;, score=1.000 total time=   0.0s\n",
      "[CV 1/5] END ................C=100, gamma=0.001;, score=1.000 total time=   0.0s\n",
      "[CV 2/5] END ................C=100, gamma=0.001;, score=0.957 total time=   0.0s\n",
      "[CV 3/5] END ................C=100, gamma=0.001;, score=0.818 total time=   0.0s\n",
      "[CV 4/5] END ................C=100, gamma=0.001;, score=1.000 total time=   0.0s\n",
      "[CV 5/5] END ................C=100, gamma=0.001;, score=0.955 total time=   0.0s\n",
      "[CV 1/5] END ...............C=100, gamma=0.0001;, score=0.957 total time=   0.0s\n",
      "[CV 2/5] END ...............C=100, gamma=0.0001;, score=0.870 total time=   0.0s\n",
      "[CV 3/5] END ...............C=100, gamma=0.0001;, score=0.864 total time=   0.0s\n",
      "[CV 4/5] END ...............C=100, gamma=0.0001;, score=1.000 total time=   0.0s\n",
      "[CV 5/5] END ...............C=100, gamma=0.0001;, score=0.864 total time=   0.0s\n",
      "[CV 1/5] END ...................C=1000, gamma=1;, score=0.957 total time=   0.0s\n",
      "[CV 2/5] END ...................C=1000, gamma=1;, score=1.000 total time=   0.0s\n",
      "[CV 3/5] END ...................C=1000, gamma=1;, score=0.818 total time=   0.0s\n",
      "[CV 4/5] END ...................C=1000, gamma=1;, score=0.955 total time=   0.0s\n",
      "[CV 5/5] END ...................C=1000, gamma=1;, score=0.909 total time=   0.0s\n",
      "[CV 1/5] END .................C=1000, gamma=0.1;, score=0.957 total time=   0.0s\n",
      "[CV 2/5] END .................C=1000, gamma=0.1;, score=1.000 total time=   0.0s\n",
      "[CV 3/5] END .................C=1000, gamma=0.1;, score=0.818 total time=   0.0s\n",
      "[CV 4/5] END .................C=1000, gamma=0.1;, score=1.000 total time=   0.0s\n",
      "[CV 5/5] END .................C=1000, gamma=0.1;, score=0.955 total time=   0.0s\n",
      "[CV 1/5] END ................C=1000, gamma=0.01;, score=0.957 total time=   0.0s\n",
      "[CV 2/5] END ................C=1000, gamma=0.01;, score=0.957 total time=   0.0s\n",
      "[CV 3/5] END ................C=1000, gamma=0.01;, score=0.818 total time=   0.0s\n",
      "[CV 4/5] END ................C=1000, gamma=0.01;, score=1.000 total time=   0.0s\n",
      "[CV 5/5] END ................C=1000, gamma=0.01;, score=1.000 total time=   0.0s\n",
      "[CV 1/5] END ...............C=1000, gamma=0.001;, score=1.000 total time=   0.0s\n",
      "[CV 2/5] END ...............C=1000, gamma=0.001;, score=1.000 total time=   0.0s\n",
      "[CV 3/5] END ...............C=1000, gamma=0.001;, score=0.864 total time=   0.0s\n",
      "[CV 4/5] END ...............C=1000, gamma=0.001;, score=1.000 total time=   0.0s\n",
      "[CV 5/5] END ...............C=1000, gamma=0.001;, score=1.000 total time=   0.0s\n",
      "[CV 1/5] END ..............C=1000, gamma=0.0001;, score=1.000 total time=   0.0s\n",
      "[CV 2/5] END ..............C=1000, gamma=0.0001;, score=0.957 total time=   0.0s\n",
      "[CV 3/5] END ..............C=1000, gamma=0.0001;, score=0.818 total time=   0.0s\n",
      "[CV 4/5] END ..............C=1000, gamma=0.0001;, score=1.000 total time=   0.0s\n",
      "[CV 5/5] END ..............C=1000, gamma=0.0001;, score=0.955 total time=   0.0s\n"
     ]
    },
    {
     "data": {
      "text/html": [
       "<style>#sk-container-id-2 {color: black;background-color: white;}#sk-container-id-2 pre{padding: 0;}#sk-container-id-2 div.sk-toggleable {background-color: white;}#sk-container-id-2 label.sk-toggleable__label {cursor: pointer;display: block;width: 100%;margin-bottom: 0;padding: 0.3em;box-sizing: border-box;text-align: center;}#sk-container-id-2 label.sk-toggleable__label-arrow:before {content: \"▸\";float: left;margin-right: 0.25em;color: #696969;}#sk-container-id-2 label.sk-toggleable__label-arrow:hover:before {color: black;}#sk-container-id-2 div.sk-estimator:hover label.sk-toggleable__label-arrow:before {color: black;}#sk-container-id-2 div.sk-toggleable__content {max-height: 0;max-width: 0;overflow: hidden;text-align: left;background-color: #f0f8ff;}#sk-container-id-2 div.sk-toggleable__content pre {margin: 0.2em;color: black;border-radius: 0.25em;background-color: #f0f8ff;}#sk-container-id-2 input.sk-toggleable__control:checked~div.sk-toggleable__content {max-height: 200px;max-width: 100%;overflow: auto;}#sk-container-id-2 input.sk-toggleable__control:checked~label.sk-toggleable__label-arrow:before {content: \"▾\";}#sk-container-id-2 div.sk-estimator input.sk-toggleable__control:checked~label.sk-toggleable__label {background-color: #d4ebff;}#sk-container-id-2 div.sk-label input.sk-toggleable__control:checked~label.sk-toggleable__label {background-color: #d4ebff;}#sk-container-id-2 input.sk-hidden--visually {border: 0;clip: rect(1px 1px 1px 1px);clip: rect(1px, 1px, 1px, 1px);height: 1px;margin: -1px;overflow: hidden;padding: 0;position: absolute;width: 1px;}#sk-container-id-2 div.sk-estimator {font-family: monospace;background-color: #f0f8ff;border: 1px dotted black;border-radius: 0.25em;box-sizing: border-box;margin-bottom: 0.5em;}#sk-container-id-2 div.sk-estimator:hover {background-color: #d4ebff;}#sk-container-id-2 div.sk-parallel-item::after {content: \"\";width: 100%;border-bottom: 1px solid gray;flex-grow: 1;}#sk-container-id-2 div.sk-label:hover label.sk-toggleable__label {background-color: #d4ebff;}#sk-container-id-2 div.sk-serial::before {content: \"\";position: absolute;border-left: 1px solid gray;box-sizing: border-box;top: 0;bottom: 0;left: 50%;z-index: 0;}#sk-container-id-2 div.sk-serial {display: flex;flex-direction: column;align-items: center;background-color: white;padding-right: 0.2em;padding-left: 0.2em;position: relative;}#sk-container-id-2 div.sk-item {position: relative;z-index: 1;}#sk-container-id-2 div.sk-parallel {display: flex;align-items: stretch;justify-content: center;background-color: white;position: relative;}#sk-container-id-2 div.sk-item::before, #sk-container-id-2 div.sk-parallel-item::before {content: \"\";position: absolute;border-left: 1px solid gray;box-sizing: border-box;top: 0;bottom: 0;left: 50%;z-index: -1;}#sk-container-id-2 div.sk-parallel-item {display: flex;flex-direction: column;z-index: 1;position: relative;background-color: white;}#sk-container-id-2 div.sk-parallel-item:first-child::after {align-self: flex-end;width: 50%;}#sk-container-id-2 div.sk-parallel-item:last-child::after {align-self: flex-start;width: 50%;}#sk-container-id-2 div.sk-parallel-item:only-child::after {width: 0;}#sk-container-id-2 div.sk-dashed-wrapped {border: 1px dashed gray;margin: 0 0.4em 0.5em 0.4em;box-sizing: border-box;padding-bottom: 0.4em;background-color: white;}#sk-container-id-2 div.sk-label label {font-family: monospace;font-weight: bold;display: inline-block;line-height: 1.2em;}#sk-container-id-2 div.sk-label-container {text-align: center;}#sk-container-id-2 div.sk-container {/* jupyter's `normalize.less` sets `[hidden] { display: none; }` but bootstrap.min.css set `[hidden] { display: none !important; }` so we also need the `!important` here to be able to override the default hidden behavior on the sphinx rendered scikit-learn.org. See: https://github.com/scikit-learn/scikit-learn/issues/21755 */display: inline-block !important;position: relative;}#sk-container-id-2 div.sk-text-repr-fallback {display: none;}</style><div id=\"sk-container-id-2\" class=\"sk-top-container\"><div class=\"sk-text-repr-fallback\"><pre>GridSearchCV(cv=5, estimator=SVC(),\n",
       "             param_grid={&#x27;C&#x27;: [0.1, 1, 10, 100, 1000],\n",
       "                         &#x27;gamma&#x27;: [1, 0.1, 0.01, 0.001, 0.0001]},\n",
       "             verbose=3)</pre><b>In a Jupyter environment, please rerun this cell to show the HTML representation or trust the notebook. <br />On GitHub, the HTML representation is unable to render, please try loading this page with nbviewer.org.</b></div><div class=\"sk-container\" hidden><div class=\"sk-item sk-dashed-wrapped\"><div class=\"sk-label-container\"><div class=\"sk-label sk-toggleable\"><input class=\"sk-toggleable__control sk-hidden--visually\" id=\"sk-estimator-id-2\" type=\"checkbox\" ><label for=\"sk-estimator-id-2\" class=\"sk-toggleable__label sk-toggleable__label-arrow\">GridSearchCV</label><div class=\"sk-toggleable__content\"><pre>GridSearchCV(cv=5, estimator=SVC(),\n",
       "             param_grid={&#x27;C&#x27;: [0.1, 1, 10, 100, 1000],\n",
       "                         &#x27;gamma&#x27;: [1, 0.1, 0.01, 0.001, 0.0001]},\n",
       "             verbose=3)</pre></div></div></div><div class=\"sk-parallel\"><div class=\"sk-parallel-item\"><div class=\"sk-item\"><div class=\"sk-label-container\"><div class=\"sk-label sk-toggleable\"><input class=\"sk-toggleable__control sk-hidden--visually\" id=\"sk-estimator-id-3\" type=\"checkbox\" ><label for=\"sk-estimator-id-3\" class=\"sk-toggleable__label sk-toggleable__label-arrow\">estimator: SVC</label><div class=\"sk-toggleable__content\"><pre>SVC()</pre></div></div></div><div class=\"sk-serial\"><div class=\"sk-item\"><div class=\"sk-estimator sk-toggleable\"><input class=\"sk-toggleable__control sk-hidden--visually\" id=\"sk-estimator-id-4\" type=\"checkbox\" ><label for=\"sk-estimator-id-4\" class=\"sk-toggleable__label sk-toggleable__label-arrow\">SVC</label><div class=\"sk-toggleable__content\"><pre>SVC()</pre></div></div></div></div></div></div></div></div></div></div>"
      ],
      "text/plain": [
       "GridSearchCV(cv=5, estimator=SVC(),\n",
       "             param_grid={'C': [0.1, 1, 10, 100, 1000],\n",
       "                         'gamma': [1, 0.1, 0.01, 0.001, 0.0001]},\n",
       "             verbose=3)"
      ]
     },
     "execution_count": 16,
     "metadata": {},
     "output_type": "execute_result"
    }
   ],
   "source": [
    "grid.fit(X_train,y_train)"
   ]
  },
  {
   "cell_type": "code",
   "execution_count": 17,
   "id": "f82e0194-4d61-4b1a-b4fe-7047d12a6fff",
   "metadata": {},
   "outputs": [
    {
     "data": {
      "text/plain": [
       "1.0"
      ]
     },
     "execution_count": 17,
     "metadata": {},
     "output_type": "execute_result"
    }
   ],
   "source": [
    "y_pred=grid.predict(X_test)\n",
    "accuracy_score(y_test,y_pred)"
   ]
  },
  {
   "cell_type": "code",
   "execution_count": 18,
   "id": "04ac8948-1130-4d78-b745-b9ed00ad6e76",
   "metadata": {},
   "outputs": [
    {
     "data": {
      "text/plain": [
       "array([[15,  0,  0],\n",
       "       [ 0, 11,  0],\n",
       "       [ 0,  0, 12]])"
      ]
     },
     "execution_count": 18,
     "metadata": {},
     "output_type": "execute_result"
    }
   ],
   "source": [
    "confusion_matrix(y_test,y_pred)"
   ]
  },
  {
   "cell_type": "code",
   "execution_count": 19,
   "id": "df3e6578-265f-4fff-b0e5-c0a49d72c77c",
   "metadata": {},
   "outputs": [
    {
     "data": {
      "text/plain": [
       "{'C': 100, 'gamma': 0.01}"
      ]
     },
     "execution_count": 19,
     "metadata": {},
     "output_type": "execute_result"
    }
   ],
   "source": [
    "grid.best_params_"
   ]
  },
  {
   "cell_type": "code",
   "execution_count": 21,
   "id": "1f9df8f4-fb72-45df-a045-63c585e2c2a8",
   "metadata": {},
   "outputs": [],
   "source": [
    "import pickle\n",
    "model_filename = 'grid.pkl'\n",
    "\n",
    "# Serialize (pickle) the model to a file\n",
    "with open(model_filename, 'wb') as model_file:\n",
    "    pickle.dump(grid, model_file)\n"
   ]
  },
  {
   "cell_type": "code",
   "execution_count": null,
   "id": "0f74340d-b325-4197-86cb-e60e651ae5b3",
   "metadata": {},
   "outputs": [],
   "source": []
  },
  {
   "cell_type": "code",
   "execution_count": null,
   "id": "2203de79-1b3a-4e00-a55b-ff010c2d182e",
   "metadata": {},
   "outputs": [],
   "source": []
  }
 ],
 "metadata": {
  "kernelspec": {
   "display_name": "Python 3 (ipykernel)",
   "language": "python",
   "name": "python3"
  },
  "language_info": {
   "codemirror_mode": {
    "name": "ipython",
    "version": 3
   },
   "file_extension": ".py",
   "mimetype": "text/x-python",
   "name": "python",
   "nbconvert_exporter": "python",
   "pygments_lexer": "ipython3",
   "version": "3.10.8"
  }
 },
 "nbformat": 4,
 "nbformat_minor": 5
}
